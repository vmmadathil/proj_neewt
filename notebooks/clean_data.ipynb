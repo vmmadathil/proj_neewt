{
 "metadata": {
  "language_info": {
   "codemirror_mode": {
    "name": "ipython",
    "version": 3
   },
   "file_extension": ".py",
   "mimetype": "text/x-python",
   "name": "python",
   "nbconvert_exporter": "python",
   "pygments_lexer": "ipython3",
   "version": "3.8.5-final"
  },
  "orig_nbformat": 2,
  "kernelspec": {
   "name": "python3",
   "display_name": "Python 3.8.5 64-bit ('tx2036-test': conda)",
   "metadata": {
    "interpreter": {
     "hash": "a57c79dc9956e442f3c50029d8fd4fa1ea1c7263198942fc1f0ab90314f7affc"
    }
   }
  }
 },
 "nbformat": 4,
 "nbformat_minor": 2,
 "cells": [
  {
   "cell_type": "code",
   "execution_count": 2,
   "metadata": {},
   "outputs": [],
   "source": [
    "import pandas as pd"
   ]
  },
  {
   "cell_type": "code",
   "execution_count": 6,
   "metadata": {},
   "outputs": [
    {
     "output_type": "execute_result",
     "data": {
      "text/plain": [
       "      Label  Value\n",
       "0  2018 Jan    4.1\n",
       "1  2018 Feb    4.1\n",
       "2  2018 Mar    4.0\n",
       "3  2018 Apr    4.0\n",
       "4  2018 May    3.8"
      ],
      "text/html": "<div>\n<style scoped>\n    .dataframe tbody tr th:only-of-type {\n        vertical-align: middle;\n    }\n\n    .dataframe tbody tr th {\n        vertical-align: top;\n    }\n\n    .dataframe thead th {\n        text-align: right;\n    }\n</style>\n<table border=\"1\" class=\"dataframe\">\n  <thead>\n    <tr style=\"text-align: right;\">\n      <th></th>\n      <th>Label</th>\n      <th>Value</th>\n    </tr>\n  </thead>\n  <tbody>\n    <tr>\n      <th>0</th>\n      <td>2018 Jan</td>\n      <td>4.1</td>\n    </tr>\n    <tr>\n      <th>1</th>\n      <td>2018 Feb</td>\n      <td>4.1</td>\n    </tr>\n    <tr>\n      <th>2</th>\n      <td>2018 Mar</td>\n      <td>4.0</td>\n    </tr>\n    <tr>\n      <th>3</th>\n      <td>2018 Apr</td>\n      <td>4.0</td>\n    </tr>\n    <tr>\n      <th>4</th>\n      <td>2018 May</td>\n      <td>3.8</td>\n    </tr>\n  </tbody>\n</table>\n</div>"
     },
     "metadata": {},
     "execution_count": 6
    }
   ],
   "source": [
    "# Monthly unemployment\n",
    "\n",
    "mon_unemp = pd.read_csv('../data/raw/seas_adj_unemp.csv')\n",
    "mon_unemp.drop(mon_unemp.iloc[:, 0:3], inplace = True, axis = 1)\n",
    "mon_unemp.to_csv('../data/processed/unemp.csv')\n",
    "\n",
    "mon_unemp.head()"
   ]
  },
  {
   "cell_type": "code",
   "execution_count": 3,
   "metadata": {},
   "outputs": [
    {
     "output_type": "execute_result",
     "data": {
      "text/plain": [
       "        Date    N.S.A\n",
       "0   1/4/2020  335,480\n",
       "1  1/11/2020  338,550\n",
       "2  1/18/2020  282,088\n",
       "3  1/25/2020  229,002\n",
       "4   2/1/2020  224,664"
      ],
      "text/html": "<div>\n<style scoped>\n    .dataframe tbody tr th:only-of-type {\n        vertical-align: middle;\n    }\n\n    .dataframe tbody tr th {\n        vertical-align: top;\n    }\n\n    .dataframe thead th {\n        text-align: right;\n    }\n</style>\n<table border=\"1\" class=\"dataframe\">\n  <thead>\n    <tr style=\"text-align: right;\">\n      <th></th>\n      <th>Date</th>\n      <th>N.S.A</th>\n    </tr>\n  </thead>\n  <tbody>\n    <tr>\n      <th>0</th>\n      <td>1/4/2020</td>\n      <td>335,480</td>\n    </tr>\n    <tr>\n      <th>1</th>\n      <td>1/11/2020</td>\n      <td>338,550</td>\n    </tr>\n    <tr>\n      <th>2</th>\n      <td>1/18/2020</td>\n      <td>282,088</td>\n    </tr>\n    <tr>\n      <th>3</th>\n      <td>1/25/2020</td>\n      <td>229,002</td>\n    </tr>\n    <tr>\n      <th>4</th>\n      <td>2/1/2020</td>\n      <td>224,664</td>\n    </tr>\n  </tbody>\n</table>\n</div>"
     },
     "metadata": {},
     "execution_count": 3
    }
   ],
   "source": [
    "# Weekly unemployment claims\n",
    "\n",
    "weekly_ui = pd.read_csv('../data/raw/ui_raw.csv')\n",
    "weekly_ui = weekly_ui[['Date', 'N.S.A']]\n",
    "weekly_ui.to_csv('../data/processed/ui.csv')\n",
    "\n",
    "weekly_ui.head()"
   ]
  },
  {
   "cell_type": "code",
   "execution_count": 7,
   "metadata": {},
   "outputs": [
    {
     "output_type": "execute_result",
     "data": {
      "text/plain": [
       "      Label   Value\n",
       "0  2018 Jan  147672\n",
       "1  2018 Feb  148078\n",
       "2  2018 Mar  148254\n",
       "3  2018 Apr  148391\n",
       "4  2018 May  148669"
      ],
      "text/html": "<div>\n<style scoped>\n    .dataframe tbody tr th:only-of-type {\n        vertical-align: middle;\n    }\n\n    .dataframe tbody tr th {\n        vertical-align: top;\n    }\n\n    .dataframe thead th {\n        text-align: right;\n    }\n</style>\n<table border=\"1\" class=\"dataframe\">\n  <thead>\n    <tr style=\"text-align: right;\">\n      <th></th>\n      <th>Label</th>\n      <th>Value</th>\n    </tr>\n  </thead>\n  <tbody>\n    <tr>\n      <th>0</th>\n      <td>2018 Jan</td>\n      <td>147672</td>\n    </tr>\n    <tr>\n      <th>1</th>\n      <td>2018 Feb</td>\n      <td>148078</td>\n    </tr>\n    <tr>\n      <th>2</th>\n      <td>2018 Mar</td>\n      <td>148254</td>\n    </tr>\n    <tr>\n      <th>3</th>\n      <td>2018 Apr</td>\n      <td>148391</td>\n    </tr>\n    <tr>\n      <th>4</th>\n      <td>2018 May</td>\n      <td>148669</td>\n    </tr>\n  </tbody>\n</table>\n</div>"
     },
     "metadata": {},
     "execution_count": 7
    }
   ],
   "source": [
    "# Total non-farm employees\n",
    "\n",
    "tot_emp = pd.read_csv('../data/raw/num_all_employees.csv')\n",
    "tot_emp.drop(tot_emp.iloc[:, 0:3], inplace = True, axis = 1)\n",
    "tot_emp.to_csv('../data/processed/total_employees.csv')\n",
    "\n",
    "tot_emp.head()"
   ]
  },
  {
   "cell_type": "code",
   "execution_count": 11,
   "metadata": {},
   "outputs": [
    {
     "output_type": "execute_result",
     "data": {
      "text/plain": [
       "      Label  Value\n",
       "0  2018 Jan    3.5\n",
       "1  2018 Feb    3.7\n",
       "2  2018 Mar    3.6\n",
       "3  2018 Apr    3.6\n",
       "4  2018 May    3.5"
      ],
      "text/html": "<div>\n<style scoped>\n    .dataframe tbody tr th:only-of-type {\n        vertical-align: middle;\n    }\n\n    .dataframe tbody tr th {\n        vertical-align: top;\n    }\n\n    .dataframe thead th {\n        text-align: right;\n    }\n</style>\n<table border=\"1\" class=\"dataframe\">\n  <thead>\n    <tr style=\"text-align: right;\">\n      <th></th>\n      <th>Label</th>\n      <th>Value</th>\n    </tr>\n  </thead>\n  <tbody>\n    <tr>\n      <th>0</th>\n      <td>2018 Jan</td>\n      <td>3.5</td>\n    </tr>\n    <tr>\n      <th>1</th>\n      <td>2018 Feb</td>\n      <td>3.7</td>\n    </tr>\n    <tr>\n      <th>2</th>\n      <td>2018 Mar</td>\n      <td>3.6</td>\n    </tr>\n    <tr>\n      <th>3</th>\n      <td>2018 Apr</td>\n      <td>3.6</td>\n    </tr>\n    <tr>\n      <th>4</th>\n      <td>2018 May</td>\n      <td>3.5</td>\n    </tr>\n  </tbody>\n</table>\n</div>"
     },
     "metadata": {},
     "execution_count": 11
    }
   ],
   "source": [
    "# Granular unemployment\n",
    "\n",
    "# White unemployment\n",
    "wht_unempl = pd.read_csv('../data/raw/seas_white_unemp.csv')\n",
    "wht_unempl.drop(wht_unempl.iloc[:, 0:3], inplace = True, axis = 1)\n",
    "wht_unempl.to_csv('../data/processed/wht_unemp.csv')\n",
    "\n",
    "wht_unempl.head()"
   ]
  },
  {
   "cell_type": "code",
   "execution_count": 12,
   "metadata": {},
   "outputs": [
    {
     "output_type": "execute_result",
     "data": {
      "text/plain": [
       "      Label  Value\n",
       "0  2018 Jan    5.0\n",
       "1  2018 Feb    4.9\n",
       "2  2018 Mar    5.0\n",
       "3  2018 Apr    4.8\n",
       "4  2018 May    4.9"
      ],
      "text/html": "<div>\n<style scoped>\n    .dataframe tbody tr th:only-of-type {\n        vertical-align: middle;\n    }\n\n    .dataframe tbody tr th {\n        vertical-align: top;\n    }\n\n    .dataframe thead th {\n        text-align: right;\n    }\n</style>\n<table border=\"1\" class=\"dataframe\">\n  <thead>\n    <tr style=\"text-align: right;\">\n      <th></th>\n      <th>Label</th>\n      <th>Value</th>\n    </tr>\n  </thead>\n  <tbody>\n    <tr>\n      <th>0</th>\n      <td>2018 Jan</td>\n      <td>5.0</td>\n    </tr>\n    <tr>\n      <th>1</th>\n      <td>2018 Feb</td>\n      <td>4.9</td>\n    </tr>\n    <tr>\n      <th>2</th>\n      <td>2018 Mar</td>\n      <td>5.0</td>\n    </tr>\n    <tr>\n      <th>3</th>\n      <td>2018 Apr</td>\n      <td>4.8</td>\n    </tr>\n    <tr>\n      <th>4</th>\n      <td>2018 May</td>\n      <td>4.9</td>\n    </tr>\n  </tbody>\n</table>\n</div>"
     },
     "metadata": {},
     "execution_count": 12
    }
   ],
   "source": [
    "# Latino unemployment\n",
    "ltn_unempl = pd.read_csv('../data/raw/seas_hisp_unemp.csv')\n",
    "ltn_unempl.drop(ltn_unempl.iloc[:, 0:3], inplace = True, axis = 1)\n",
    "ltn_unempl.to_csv('../data/processed/latino_unemp.csv')\n",
    "\n",
    "ltn_unempl.head()"
   ]
  },
  {
   "cell_type": "code",
   "execution_count": 13,
   "metadata": {},
   "outputs": [
    {
     "output_type": "execute_result",
     "data": {
      "text/plain": [
       "      Label  Value\n",
       "0  2018 Jan    7.5\n",
       "1  2018 Feb    6.7\n",
       "2  2018 Mar    6.8\n",
       "3  2018 Apr    6.4\n",
       "4  2018 May    5.9"
      ],
      "text/html": "<div>\n<style scoped>\n    .dataframe tbody tr th:only-of-type {\n        vertical-align: middle;\n    }\n\n    .dataframe tbody tr th {\n        vertical-align: top;\n    }\n\n    .dataframe thead th {\n        text-align: right;\n    }\n</style>\n<table border=\"1\" class=\"dataframe\">\n  <thead>\n    <tr style=\"text-align: right;\">\n      <th></th>\n      <th>Label</th>\n      <th>Value</th>\n    </tr>\n  </thead>\n  <tbody>\n    <tr>\n      <th>0</th>\n      <td>2018 Jan</td>\n      <td>7.5</td>\n    </tr>\n    <tr>\n      <th>1</th>\n      <td>2018 Feb</td>\n      <td>6.7</td>\n    </tr>\n    <tr>\n      <th>2</th>\n      <td>2018 Mar</td>\n      <td>6.8</td>\n    </tr>\n    <tr>\n      <th>3</th>\n      <td>2018 Apr</td>\n      <td>6.4</td>\n    </tr>\n    <tr>\n      <th>4</th>\n      <td>2018 May</td>\n      <td>5.9</td>\n    </tr>\n  </tbody>\n</table>\n</div>"
     },
     "metadata": {},
     "execution_count": 13
    }
   ],
   "source": [
    "# Black unemployment\n",
    "blk_unempl = pd.read_csv('../data/raw/seas_black_unemp.csv')\n",
    "blk_unempl.drop(blk_unempl.iloc[:, 0:3], inplace = True, axis = 1)\n",
    "blk_unempl.to_csv('../data/processed/Black_unemp.csv')\n",
    "\n",
    "blk_unempl.head()"
   ]
  },
  {
   "cell_type": "code",
   "execution_count": 14,
   "metadata": {},
   "outputs": [
    {
     "output_type": "execute_result",
     "data": {
      "text/plain": [
       "      Label  Value\n",
       "0  2018 Jan    3.0\n",
       "1  2018 Feb    2.9\n",
       "2  2018 Mar    3.1\n",
       "3  2018 Apr    2.8\n",
       "4  2018 May    2.2"
      ],
      "text/html": "<div>\n<style scoped>\n    .dataframe tbody tr th:only-of-type {\n        vertical-align: middle;\n    }\n\n    .dataframe tbody tr th {\n        vertical-align: top;\n    }\n\n    .dataframe thead th {\n        text-align: right;\n    }\n</style>\n<table border=\"1\" class=\"dataframe\">\n  <thead>\n    <tr style=\"text-align: right;\">\n      <th></th>\n      <th>Label</th>\n      <th>Value</th>\n    </tr>\n  </thead>\n  <tbody>\n    <tr>\n      <th>0</th>\n      <td>2018 Jan</td>\n      <td>3.0</td>\n    </tr>\n    <tr>\n      <th>1</th>\n      <td>2018 Feb</td>\n      <td>2.9</td>\n    </tr>\n    <tr>\n      <th>2</th>\n      <td>2018 Mar</td>\n      <td>3.1</td>\n    </tr>\n    <tr>\n      <th>3</th>\n      <td>2018 Apr</td>\n      <td>2.8</td>\n    </tr>\n    <tr>\n      <th>4</th>\n      <td>2018 May</td>\n      <td>2.2</td>\n    </tr>\n  </tbody>\n</table>\n</div>"
     },
     "metadata": {},
     "execution_count": 14
    }
   ],
   "source": [
    "# Asian unemployment\n",
    "asn_unempl = pd.read_csv('../data/raw/seas_asian_unemp.csv')\n",
    "asn_unempl.drop(asn_unempl.iloc[:, 0:3], inplace = True, axis = 1)\n",
    "asn_unempl.to_csv('../data/processed/asian_unemp.csv')\n",
    "\n",
    "asn_unempl.head()"
   ]
  },
  {
   "cell_type": "code",
   "execution_count": 17,
   "metadata": {},
   "outputs": [
    {
     "output_type": "execute_result",
     "data": {
      "text/plain": [
       "      Label  Value\n",
       "0  2018 Jan    4.2\n",
       "1  2018 Feb    4.1\n",
       "2  2018 Mar    4.1\n",
       "3  2018 Apr    4.1\n",
       "4  2018 May    4.0"
      ],
      "text/html": "<div>\n<style scoped>\n    .dataframe tbody tr th:only-of-type {\n        vertical-align: middle;\n    }\n\n    .dataframe tbody tr th {\n        vertical-align: top;\n    }\n\n    .dataframe thead th {\n        text-align: right;\n    }\n</style>\n<table border=\"1\" class=\"dataframe\">\n  <thead>\n    <tr style=\"text-align: right;\">\n      <th></th>\n      <th>Label</th>\n      <th>Value</th>\n    </tr>\n  </thead>\n  <tbody>\n    <tr>\n      <th>0</th>\n      <td>2018 Jan</td>\n      <td>4.2</td>\n    </tr>\n    <tr>\n      <th>1</th>\n      <td>2018 Feb</td>\n      <td>4.1</td>\n    </tr>\n    <tr>\n      <th>2</th>\n      <td>2018 Mar</td>\n      <td>4.1</td>\n    </tr>\n    <tr>\n      <th>3</th>\n      <td>2018 Apr</td>\n      <td>4.1</td>\n    </tr>\n    <tr>\n      <th>4</th>\n      <td>2018 May</td>\n      <td>4.0</td>\n    </tr>\n  </tbody>\n</table>\n</div>"
     },
     "metadata": {},
     "execution_count": 17
    }
   ],
   "source": [
    "# Men unemployment\n",
    "men_unempl = pd.read_csv('../data/raw/seas_men_unemp.csv')\n",
    "men_unempl.drop(men_unempl.iloc[:, 0:3], inplace = True, axis = 1)\n",
    "men_unempl.to_csv('../data/processed/men_unemp.csv')\n",
    "\n",
    "men_unempl.head()"
   ]
  },
  {
   "cell_type": "code",
   "execution_count": 18,
   "metadata": {},
   "outputs": [
    {
     "output_type": "execute_result",
     "data": {
      "text/plain": [
       "      Label  Value\n",
       "0  2018 Jan    4.0\n",
       "1  2018 Feb    4.1\n",
       "2  2018 Mar    4.0\n",
       "3  2018 Apr    3.8\n",
       "4  2018 May    3.6"
      ],
      "text/html": "<div>\n<style scoped>\n    .dataframe tbody tr th:only-of-type {\n        vertical-align: middle;\n    }\n\n    .dataframe tbody tr th {\n        vertical-align: top;\n    }\n\n    .dataframe thead th {\n        text-align: right;\n    }\n</style>\n<table border=\"1\" class=\"dataframe\">\n  <thead>\n    <tr style=\"text-align: right;\">\n      <th></th>\n      <th>Label</th>\n      <th>Value</th>\n    </tr>\n  </thead>\n  <tbody>\n    <tr>\n      <th>0</th>\n      <td>2018 Jan</td>\n      <td>4.0</td>\n    </tr>\n    <tr>\n      <th>1</th>\n      <td>2018 Feb</td>\n      <td>4.1</td>\n    </tr>\n    <tr>\n      <th>2</th>\n      <td>2018 Mar</td>\n      <td>4.0</td>\n    </tr>\n    <tr>\n      <th>3</th>\n      <td>2018 Apr</td>\n      <td>3.8</td>\n    </tr>\n    <tr>\n      <th>4</th>\n      <td>2018 May</td>\n      <td>3.6</td>\n    </tr>\n  </tbody>\n</table>\n</div>"
     },
     "metadata": {},
     "execution_count": 18
    }
   ],
   "source": [
    "# Women unemployment\n",
    "women_unempl = pd.read_csv('../data/raw/seas_women_unemp.csv')\n",
    "women_unempl.drop(women_unempl.iloc[:, 0:3], inplace = True, axis = 1)\n",
    "women_unempl.to_csv('../data/processed/women_unemp.csv')\n",
    "\n",
    "women_unempl.head()"
   ]
  },
  {
   "cell_type": "code",
   "execution_count": 19,
   "metadata": {},
   "outputs": [
    {
     "output_type": "execute_result",
     "data": {
      "text/plain": [
       "      Label  Value\n",
       "0  2018 Jan    441\n",
       "1  2018 Feb    375\n",
       "2  2018 Mar    456\n",
       "3  2018 Apr    402\n",
       "4  2018 May    435"
      ],
      "text/html": "<div>\n<style scoped>\n    .dataframe tbody tr th:only-of-type {\n        vertical-align: middle;\n    }\n\n    .dataframe tbody tr th {\n        vertical-align: top;\n    }\n\n    .dataframe thead th {\n        text-align: right;\n    }\n</style>\n<table border=\"1\" class=\"dataframe\">\n  <thead>\n    <tr style=\"text-align: right;\">\n      <th></th>\n      <th>Label</th>\n      <th>Value</th>\n    </tr>\n  </thead>\n  <tbody>\n    <tr>\n      <th>0</th>\n      <td>2018 Jan</td>\n      <td>441</td>\n    </tr>\n    <tr>\n      <th>1</th>\n      <td>2018 Feb</td>\n      <td>375</td>\n    </tr>\n    <tr>\n      <th>2</th>\n      <td>2018 Mar</td>\n      <td>456</td>\n    </tr>\n    <tr>\n      <th>3</th>\n      <td>2018 Apr</td>\n      <td>402</td>\n    </tr>\n    <tr>\n      <th>4</th>\n      <td>2018 May</td>\n      <td>435</td>\n    </tr>\n  </tbody>\n</table>\n</div>"
     },
     "metadata": {},
     "execution_count": 19
    }
   ],
   "source": [
    "# Number of discouraged workers\n",
    "\n",
    "#total number of discouraged workers\n",
    "discour = pd.read_csv('../data/raw/seas_dis_workers.csv')\n",
    "discour.drop(discour.iloc[:, 0:3], inplace = True, axis = 1)\n",
    "discour.to_csv('../data/processed/num_dis_workers.csv')\n",
    "\n",
    "discour.head()"
   ]
  },
  {
   "cell_type": "code",
   "execution_count": 25,
   "metadata": {},
   "outputs": [
    {
     "output_type": "execute_result",
     "data": {
      "text/plain": [
       "      Label  Value\n",
       "0  2018 Jan    282\n",
       "1  2018 Feb    224\n",
       "2  2018 Mar    271\n",
       "3  2018 Apr    242\n",
       "4  2018 May    257"
      ],
      "text/html": "<div>\n<style scoped>\n    .dataframe tbody tr th:only-of-type {\n        vertical-align: middle;\n    }\n\n    .dataframe tbody tr th {\n        vertical-align: top;\n    }\n\n    .dataframe thead th {\n        text-align: right;\n    }\n</style>\n<table border=\"1\" class=\"dataframe\">\n  <thead>\n    <tr style=\"text-align: right;\">\n      <th></th>\n      <th>Label</th>\n      <th>Value</th>\n    </tr>\n  </thead>\n  <tbody>\n    <tr>\n      <th>0</th>\n      <td>2018 Jan</td>\n      <td>282</td>\n    </tr>\n    <tr>\n      <th>1</th>\n      <td>2018 Feb</td>\n      <td>224</td>\n    </tr>\n    <tr>\n      <th>2</th>\n      <td>2018 Mar</td>\n      <td>271</td>\n    </tr>\n    <tr>\n      <th>3</th>\n      <td>2018 Apr</td>\n      <td>242</td>\n    </tr>\n    <tr>\n      <th>4</th>\n      <td>2018 May</td>\n      <td>257</td>\n    </tr>\n  </tbody>\n</table>\n</div>"
     },
     "metadata": {},
     "execution_count": 25
    }
   ],
   "source": [
    "# total number of men discouraged workers\n",
    "men_discour = pd.read_csv('../data/raw/unadj_men_discouraged.csv')\n",
    "men_discour.drop(men_discour.iloc[:, 0:3], inplace = True, axis = 1)\n",
    "men_discour.to_csv('../data/processed/men_dis_workers.csv')\n",
    "\n",
    "men_discour.head()"
   ]
  },
  {
   "cell_type": "code",
   "execution_count": 26,
   "metadata": {},
   "outputs": [
    {
     "output_type": "execute_result",
     "data": {
      "text/plain": [
       "      Label  Value\n",
       "0  2018 Jan    169\n",
       "1  2018 Feb    148\n",
       "2  2018 Mar    179\n",
       "3  2018 Apr    165\n",
       "4  2018 May    120"
      ],
      "text/html": "<div>\n<style scoped>\n    .dataframe tbody tr th:only-of-type {\n        vertical-align: middle;\n    }\n\n    .dataframe tbody tr th {\n        vertical-align: top;\n    }\n\n    .dataframe thead th {\n        text-align: right;\n    }\n</style>\n<table border=\"1\" class=\"dataframe\">\n  <thead>\n    <tr style=\"text-align: right;\">\n      <th></th>\n      <th>Label</th>\n      <th>Value</th>\n    </tr>\n  </thead>\n  <tbody>\n    <tr>\n      <th>0</th>\n      <td>2018 Jan</td>\n      <td>169</td>\n    </tr>\n    <tr>\n      <th>1</th>\n      <td>2018 Feb</td>\n      <td>148</td>\n    </tr>\n    <tr>\n      <th>2</th>\n      <td>2018 Mar</td>\n      <td>179</td>\n    </tr>\n    <tr>\n      <th>3</th>\n      <td>2018 Apr</td>\n      <td>165</td>\n    </tr>\n    <tr>\n      <th>4</th>\n      <td>2018 May</td>\n      <td>120</td>\n    </tr>\n  </tbody>\n</table>\n</div>"
     },
     "metadata": {},
     "execution_count": 26
    }
   ],
   "source": [
    "# total number of men discouraged workers\n",
    "women_discour = pd.read_csv('../data/raw/unadj_women_discouraged.csv')\n",
    "women_discour.drop(women_discour.iloc[:, 0:3], inplace = True, axis = 1)\n",
    "women_discour.to_csv('../data/processed/women_dis_workers.csv')\n",
    "\n",
    "women_discour.head()"
   ]
  }
 ]
}